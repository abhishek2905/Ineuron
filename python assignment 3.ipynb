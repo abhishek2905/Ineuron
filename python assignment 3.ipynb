{
 "cells": [
  {
   "cell_type": "code",
   "execution_count": 24,
   "metadata": {},
   "outputs": [
    {
     "data": {
      "text/plain": [
       "1.875"
      ]
     },
     "execution_count": 24,
     "metadata": {},
     "output_type": "execute_result"
    }
   ],
   "source": [
    "#myreduce fuction\n",
    "def myreduce(func,l):\n",
    "    s = 0\n",
    "    try:\n",
    "        if func(s,l[0]) == 0 and l[0]!=0:\n",
    "            s = 1\n",
    "    except:\n",
    "        s = 1\n",
    "    for i in l:\n",
    "        s = func(s,i)\n",
    "    return s\n",
    "\n",
    "l = [1,2,3,4,5]\n",
    "myreduce(lambda x,y: y/x ,l)"
   ]
  },
  {
   "cell_type": "code",
   "execution_count": 32,
   "metadata": {},
   "outputs": [
    {
     "data": {
      "text/plain": [
       "[2, 4, 6, 8, 10]"
      ]
     },
     "execution_count": 32,
     "metadata": {},
     "output_type": "execute_result"
    }
   ],
   "source": [
    "#myfilter fuction\n",
    "def myfilter(func,l):\n",
    "    s = []\n",
    "    for i in l:\n",
    "        if(func(i)==True):\n",
    "              s.append(i)\n",
    "    return s\n",
    "\n",
    "l = [1,2,3,4,5,6,7,8,9,10]\n",
    "myfilter(lambda x: x%2==0 ,l)"
   ]
  },
  {
   "cell_type": "code",
   "execution_count": null,
   "metadata": {},
   "outputs": [],
   "source": []
  }
 ],
 "metadata": {
  "kernelspec": {
   "display_name": "Python 3",
   "language": "python",
   "name": "python3"
  },
  "language_info": {
   "codemirror_mode": {
    "name": "ipython",
    "version": 3
   },
   "file_extension": ".py",
   "mimetype": "text/x-python",
   "name": "python",
   "nbconvert_exporter": "python",
   "pygments_lexer": "ipython3",
   "version": "3.7.3"
  }
 },
 "nbformat": 4,
 "nbformat_minor": 2
}
